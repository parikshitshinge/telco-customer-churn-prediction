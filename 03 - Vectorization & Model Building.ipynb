{
 "cells": [
  {
   "cell_type": "markdown",
   "id": "fa324d25",
   "metadata": {},
   "source": [
    "Lets vectorize all the features to build the model<br>\n",
    "\n",
    "<b>Categorical features:</b><br>\n",
    "1. State\n",
    "2. Area code\n",
    "3. Internation Plan\n",
    "4. Voice Mail Plan\n",
    "\n",
    "<b>Numerical features:</b><br>\n",
    "1. number_vmail_messages<br>\n",
    "2. total_day_minutes<br>\n",
    "3. total_day_calls<br>\n",
    "4. total_day_charge<br>\n",
    "5. total_eve_minutes<br>\n",
    "6. total_eve_calls<br>\n",
    "7. total_eve_charge<br>\n",
    "8. total_night_minutes<br>\n",
    "9. total_night_calls<br>\n",
    "10. total_night_charge<br>\n",
    "11. total_intl_minutes<br>\n",
    "12. total_intl_calls<br>\n",
    "13. total_intl_charge<br>\n",
    "14. number_customer_service_calls<br>"
   ]
  },
  {
   "cell_type": "code",
   "execution_count": 32,
   "id": "c84e1085",
   "metadata": {},
   "outputs": [],
   "source": [
    "import pandas as pd\n",
    "import numpy as np\n",
    "from sklearn.model_selection import train_test_split\n",
    "from sklearn.feature_extraction.text import CountVectorizer\n",
    "from sklearn.preprocessing import MinMaxScaler\n",
    "from scipy.sparse import hstack"
   ]
  },
  {
   "cell_type": "markdown",
   "id": "ed748d82",
   "metadata": {},
   "source": [
    "<h4>Lets split the data into train & test. Later build model and evaluate it by performing hyperparameter tuning.</h4>"
   ]
  },
  {
   "cell_type": "code",
   "execution_count": 3,
   "id": "c99811ff",
   "metadata": {},
   "outputs": [],
   "source": [
    "train = pd.read_csv(\"train.csv\")\n",
    "test = pd.read_csv(\"test.csv\")"
   ]
  },
  {
   "cell_type": "code",
   "execution_count": 6,
   "id": "5c6fc338",
   "metadata": {},
   "outputs": [
    {
     "name": "stdout",
     "output_type": "stream",
     "text": [
      "['state' 'account_length' 'area_code' 'international_plan'\n",
      " 'voice_mail_plan' 'number_vmail_messages' 'total_day_minutes'\n",
      " 'total_day_calls' 'total_day_charge' 'total_eve_minutes'\n",
      " 'total_eve_calls' 'total_eve_charge' 'total_night_minutes'\n",
      " 'total_night_calls' 'total_night_charge' 'total_intl_minutes'\n",
      " 'total_intl_calls' 'total_intl_charge' 'number_customer_service_calls'\n",
      " 'churn']\n"
     ]
    }
   ],
   "source": [
    "print(train.columns.values)"
   ]
  },
  {
   "cell_type": "code",
   "execution_count": 5,
   "id": "0c55d116",
   "metadata": {
    "scrolled": true
   },
   "outputs": [
    {
     "name": "stdout",
     "output_type": "stream",
     "text": [
      "(4250, 20)\n"
     ]
    }
   ],
   "source": [
    "print(train.shape)"
   ]
  },
  {
   "cell_type": "code",
   "execution_count": 7,
   "id": "d4f8e86e",
   "metadata": {},
   "outputs": [
    {
     "name": "stdout",
     "output_type": "stream",
     "text": [
      "X_train shape (2975, 19)\n",
      "X_test shape (1275, 19)\n",
      "y_train shape (2975,)\n",
      "y_train shape (1275,)\n"
     ]
    }
   ],
   "source": [
    "X = train.drop(['churn'], axis=1)\n",
    "y = train['churn'].values\n",
    "\n",
    "X_train, X_test, y_train, y_test = train_test_split(X, y, test_size=0.3, stratify=y)\n",
    "\n",
    "print(\"X_train shape\", X_train.shape)\n",
    "print(\"X_test shape\", X_test.shape)\n",
    "print(\"y_train shape\", y_train.shape)\n",
    "print(\"y_train shape\", y_test.shape)\n"
   ]
  },
  {
   "cell_type": "markdown",
   "id": "891b992b",
   "metadata": {},
   "source": [
    "<h4>Lets vectorize the both datasets (train & test) based on train data </h4>"
   ]
  },
  {
   "cell_type": "code",
   "execution_count": 24,
   "id": "545e0885",
   "metadata": {},
   "outputs": [],
   "source": [
    "vectorizer = CountVectorizer()\n",
    "def vectorizeCategoricalFeature(X_train, X_test, feature):\n",
    "    vectorizer.fit(X_train[feature].values)\n",
    "    X_train_vectorized_feature = vectorizer.transform(X_train[feature].values)\n",
    "    X_test_vectorized_feature = vectorizer.transform(X_test[feature].values)\n",
    "    print(\"\\nAfter one hot encoding \",feature)\n",
    "    print(\"X_train shape: \", X_train_vectorized_feature.shape)\n",
    "    print(\"X_test shape: \", X_test_vectorized_feature.shape)\n",
    "    return X_train_vectorized_feature, X_test_vectorized_feature"
   ]
  },
  {
   "cell_type": "code",
   "execution_count": 27,
   "id": "ff1aa344",
   "metadata": {},
   "outputs": [
    {
     "name": "stdout",
     "output_type": "stream",
     "text": [
      "\n",
      "After one hot encoding  state\n",
      "X_train shape:  (2975, 51)\n",
      "X_test shape:  (1275, 51)\n",
      "\n",
      "After one hot encoding  area_code\n",
      "X_train shape:  (2975, 3)\n",
      "X_test shape:  (1275, 3)\n",
      "\n",
      "After one hot encoding  international_plan\n",
      "X_train shape:  (2975, 2)\n",
      "X_test shape:  (1275, 2)\n",
      "\n",
      "After one hot encoding  voice_mail_plan\n",
      "X_train shape:  (2975, 2)\n",
      "X_test shape:  (1275, 2)\n"
     ]
    }
   ],
   "source": [
    "# state\n",
    "X_train_state_ohe, X_test_state_ohe = vectorizeCategoricalFeature(X_train, X_test, 'state')\n",
    "\n",
    "# area_code\n",
    "X_train_areacode_ohe, X_test_areacode_ohe = vectorizeCategoricalFeature(X_train, X_test, 'area_code')\n",
    "\n",
    "# international_plan\n",
    "X_train_intplan_ohe, X_test_intplan_ohe = vectorizeCategoricalFeature(X_train, X_test, 'international_plan')\n",
    "\n",
    "# voice_mail_plan\n",
    "X_train_vmailplan_ohe, X_test_vmailplan_ohe = vectorizeCategoricalFeature(X_train, X_test, 'voice_mail_plan')\n"
   ]
  },
  {
   "cell_type": "code",
   "execution_count": 30,
   "id": "7ebe2945",
   "metadata": {},
   "outputs": [],
   "source": [
    "scaler = MinMaxScaler()\n",
    "def vectorizeNumericalFeature(X_train, X_test, feature):\n",
    "    scaler.fit(X_train[feature].values.reshape(-1,1))\n",
    "    X_train_vectorized_feature = scaler.transform(X_train[feature].values.reshape(-1,1))\n",
    "    X_test_vectorized_feature = scaler.transform(X_test[feature].values.reshape(-1,1))\n",
    "    print(\"\\nAfter normalizing \",feature)\n",
    "    print(\"X_train shape: \", X_train_vectorized_feature.shape)\n",
    "    print(\"X_test shape: \", X_test_vectorized_feature.shape)\n",
    "    return X_train_vectorized_feature, X_test_vectorized_feature"
   ]
  },
  {
   "cell_type": "code",
   "execution_count": 31,
   "id": "1c01a660",
   "metadata": {},
   "outputs": [
    {
     "name": "stdout",
     "output_type": "stream",
     "text": [
      "\n",
      "After normalizing  number_vmail_messages\n",
      "X_train shape:  (2975, 1)\n",
      "X_test shape:  (1275, 1)\n",
      "\n",
      "After normalizing  total_day_minutes\n",
      "X_train shape:  (2975, 1)\n",
      "X_test shape:  (1275, 1)\n",
      "\n",
      "After normalizing  total_day_calls\n",
      "X_train shape:  (2975, 1)\n",
      "X_test shape:  (1275, 1)\n",
      "\n",
      "After normalizing  total_day_charge\n",
      "X_train shape:  (2975, 1)\n",
      "X_test shape:  (1275, 1)\n",
      "\n",
      "After normalizing  total_eve_minutes\n",
      "X_train shape:  (2975, 1)\n",
      "X_test shape:  (1275, 1)\n",
      "\n",
      "After normalizing  total_eve_calls\n",
      "X_train shape:  (2975, 1)\n",
      "X_test shape:  (1275, 1)\n",
      "\n",
      "After normalizing  total_eve_charge\n",
      "X_train shape:  (2975, 1)\n",
      "X_test shape:  (1275, 1)\n",
      "\n",
      "After normalizing  total_night_minutes\n",
      "X_train shape:  (2975, 1)\n",
      "X_test shape:  (1275, 1)\n",
      "\n",
      "After normalizing  total_night_calls\n",
      "X_train shape:  (2975, 1)\n",
      "X_test shape:  (1275, 1)\n",
      "\n",
      "After normalizing  total_night_charge\n",
      "X_train shape:  (2975, 1)\n",
      "X_test shape:  (1275, 1)\n",
      "\n",
      "After normalizing  total_intl_minutes\n",
      "X_train shape:  (2975, 1)\n",
      "X_test shape:  (1275, 1)\n",
      "\n",
      "After normalizing  total_intl_calls\n",
      "X_train shape:  (2975, 1)\n",
      "X_test shape:  (1275, 1)\n",
      "\n",
      "After normalizing  total_intl_charge\n",
      "X_train shape:  (2975, 1)\n",
      "X_test shape:  (1275, 1)\n",
      "\n",
      "After normalizing  number_customer_service_calls\n",
      "X_train shape:  (2975, 1)\n",
      "X_test shape:  (1275, 1)\n"
     ]
    }
   ],
   "source": [
    "# number_vmail_messages\n",
    "X_train_numvmailmsg_norm, X_test_numvmailmsg_norm = vectorizeNumericalFeature(X_train, X_test, 'number_vmail_messages')\n",
    "\n",
    "# total_day_minutes\n",
    "X_train_totdaymins_norm, X_test_totdaymins_norm = vectorizeNumericalFeature(X_train, X_test, 'total_day_minutes')\n",
    "\n",
    "# total_day_calls\n",
    "X_train_totdaycalls_norm, X_test_totdaycalls_norm = vectorizeNumericalFeature(X_train, X_test, 'total_day_calls')\n",
    "\n",
    "# total_day_charge\n",
    "X_train_totdaycharge_norm, X_test_totdaycharge_norm = vectorizeNumericalFeature(X_train, X_test, 'total_day_charge')\n",
    "\n",
    "# total_eve_minutes\n",
    "X_train_totevemins_norm, X_test_totevemins_norm = vectorizeNumericalFeature(X_train, X_test, 'total_eve_minutes')\n",
    "\n",
    "# total_eve_calls\n",
    "X_train_totevecalls_norm, X_test_totevecalls_norm = vectorizeNumericalFeature(X_train, X_test, 'total_eve_calls')\n",
    "\n",
    "# total_eve_charge\n",
    "X_train_totevecharge_norm, X_test_totevecharge_norm = vectorizeNumericalFeature(X_train, X_test, 'total_eve_charge')\n",
    "\n",
    "# total_night_minutes\n",
    "X_train_totnightmins_norm, X_test_totnightmins_norm = vectorizeNumericalFeature(X_train, X_test, 'total_night_minutes')\n",
    "\n",
    "# total_night_calls\n",
    "X_train_totnightcalls_norm, X_test_totnightcalls_norm = vectorizeNumericalFeature(X_train, X_test, 'total_night_calls')\n",
    "\n",
    "# total_night_charge\n",
    "X_train_totnightcharge_norm, X_test_totnightcharge_norm = vectorizeNumericalFeature(X_train, X_test, 'total_night_charge')\n",
    "\n",
    "# total_intl_minutes\n",
    "X_train_totintlmins_norm, X_test_totintlmins_norm = vectorizeNumericalFeature(X_train, X_test, 'total_intl_minutes')\n",
    "\n",
    "# total_intl_calls\n",
    "X_train_totintlcalls_norm, X_test_totintlcalls_norm = vectorizeNumericalFeature(X_train, X_test, 'total_intl_calls')\n",
    "\n",
    "# total_intl_charge\n",
    "X_train_totintlcharge_norm, X_test_totintlcharge_norm = vectorizeNumericalFeature(X_train, X_test, 'total_intl_charge')\n",
    "\n",
    "# number_customer_service_calls\n",
    "X_train_custservcalls_norm, X_test_custservcalls_norm = vectorizeNumericalFeature(X_train, X_test, 'number_customer_service_calls')"
   ]
  },
  {
   "cell_type": "markdown",
   "id": "09ee4c81",
   "metadata": {},
   "source": [
    "<h4>Lets stack the vectorized features using hstack and create 2 sets (train & test)"
   ]
  },
  {
   "cell_type": "code",
   "execution_count": 34,
   "id": "9fbe697d",
   "metadata": {},
   "outputs": [
    {
     "name": "stdout",
     "output_type": "stream",
     "text": [
      "Stacked data set: \n",
      "X_train shape:  (2975, 72)\n",
      "X_test shape:  (1275, 72)\n"
     ]
    }
   ],
   "source": [
    "X_train_stacked = hstack((X_train_state_ohe, X_train_areacode_ohe, X_train_intplan_ohe, X_train_vmailplan_ohe, X_train_numvmailmsg_norm, X_train_totdaymins_norm, X_train_totdaycalls_norm, X_train_totdaycharge_norm, X_train_totevemins_norm, X_train_totevecalls_norm, X_train_totevecharge_norm, X_train_totnightmins_norm, X_train_totnightcalls_norm, X_train_totnightcharge_norm, X_train_totintlmins_norm, X_train_totintlcalls_norm, X_train_totintlcharge_norm, X_train_custservcalls_norm)).tocsr()\n",
    "X_test_stacked = hstack((X_test_state_ohe, X_test_areacode_ohe, X_test_intplan_ohe, X_test_vmailplan_ohe, X_test_numvmailmsg_norm, X_test_totdaymins_norm, X_test_totdaycalls_norm, X_test_totdaycharge_norm, X_test_totevemins_norm, X_test_totevecalls_norm, X_test_totevecharge_norm, X_test_totnightmins_norm, X_test_totnightcalls_norm, X_test_totnightcharge_norm, X_test_totintlmins_norm, X_test_totintlcalls_norm, X_test_totintlcharge_norm, X_test_custservcalls_norm)).tocsr()\n",
    "\n",
    "print(\"Stacked data set: \")\n",
    "print(\"X_train shape: \", X_train_stacked.shape)\n",
    "print(\"X_test shape: \", X_test_stacked.shape)"
   ]
  },
  {
   "cell_type": "markdown",
   "id": "83d3b0ff",
   "metadata": {},
   "source": [
    "Import some common ML functions"
   ]
  },
  {
   "cell_type": "code",
   "execution_count": 44,
   "id": "ec8cf743",
   "metadata": {},
   "outputs": [],
   "source": [
    "from sklearn.metrics import confusion_matrix\n",
    "from sklearn.metrics import accuracy_score"
   ]
  },
  {
   "cell_type": "markdown",
   "id": "6791b084",
   "metadata": {},
   "source": [
    "<h4>Lets apply simple logistic regression</h4>"
   ]
  },
  {
   "cell_type": "code",
   "execution_count": 43,
   "id": "fdbeb8a1",
   "metadata": {},
   "outputs": [],
   "source": [
    "from sklearn.linear_model import LogisticRegression"
   ]
  },
  {
   "cell_type": "code",
   "execution_count": 36,
   "id": "a7d25e67",
   "metadata": {},
   "outputs": [
    {
     "data": {
      "text/html": [
       "<style>#sk-container-id-1 {color: black;background-color: white;}#sk-container-id-1 pre{padding: 0;}#sk-container-id-1 div.sk-toggleable {background-color: white;}#sk-container-id-1 label.sk-toggleable__label {cursor: pointer;display: block;width: 100%;margin-bottom: 0;padding: 0.3em;box-sizing: border-box;text-align: center;}#sk-container-id-1 label.sk-toggleable__label-arrow:before {content: \"▸\";float: left;margin-right: 0.25em;color: #696969;}#sk-container-id-1 label.sk-toggleable__label-arrow:hover:before {color: black;}#sk-container-id-1 div.sk-estimator:hover label.sk-toggleable__label-arrow:before {color: black;}#sk-container-id-1 div.sk-toggleable__content {max-height: 0;max-width: 0;overflow: hidden;text-align: left;background-color: #f0f8ff;}#sk-container-id-1 div.sk-toggleable__content pre {margin: 0.2em;color: black;border-radius: 0.25em;background-color: #f0f8ff;}#sk-container-id-1 input.sk-toggleable__control:checked~div.sk-toggleable__content {max-height: 200px;max-width: 100%;overflow: auto;}#sk-container-id-1 input.sk-toggleable__control:checked~label.sk-toggleable__label-arrow:before {content: \"▾\";}#sk-container-id-1 div.sk-estimator input.sk-toggleable__control:checked~label.sk-toggleable__label {background-color: #d4ebff;}#sk-container-id-1 div.sk-label input.sk-toggleable__control:checked~label.sk-toggleable__label {background-color: #d4ebff;}#sk-container-id-1 input.sk-hidden--visually {border: 0;clip: rect(1px 1px 1px 1px);clip: rect(1px, 1px, 1px, 1px);height: 1px;margin: -1px;overflow: hidden;padding: 0;position: absolute;width: 1px;}#sk-container-id-1 div.sk-estimator {font-family: monospace;background-color: #f0f8ff;border: 1px dotted black;border-radius: 0.25em;box-sizing: border-box;margin-bottom: 0.5em;}#sk-container-id-1 div.sk-estimator:hover {background-color: #d4ebff;}#sk-container-id-1 div.sk-parallel-item::after {content: \"\";width: 100%;border-bottom: 1px solid gray;flex-grow: 1;}#sk-container-id-1 div.sk-label:hover label.sk-toggleable__label {background-color: #d4ebff;}#sk-container-id-1 div.sk-serial::before {content: \"\";position: absolute;border-left: 1px solid gray;box-sizing: border-box;top: 0;bottom: 0;left: 50%;z-index: 0;}#sk-container-id-1 div.sk-serial {display: flex;flex-direction: column;align-items: center;background-color: white;padding-right: 0.2em;padding-left: 0.2em;position: relative;}#sk-container-id-1 div.sk-item {position: relative;z-index: 1;}#sk-container-id-1 div.sk-parallel {display: flex;align-items: stretch;justify-content: center;background-color: white;position: relative;}#sk-container-id-1 div.sk-item::before, #sk-container-id-1 div.sk-parallel-item::before {content: \"\";position: absolute;border-left: 1px solid gray;box-sizing: border-box;top: 0;bottom: 0;left: 50%;z-index: -1;}#sk-container-id-1 div.sk-parallel-item {display: flex;flex-direction: column;z-index: 1;position: relative;background-color: white;}#sk-container-id-1 div.sk-parallel-item:first-child::after {align-self: flex-end;width: 50%;}#sk-container-id-1 div.sk-parallel-item:last-child::after {align-self: flex-start;width: 50%;}#sk-container-id-1 div.sk-parallel-item:only-child::after {width: 0;}#sk-container-id-1 div.sk-dashed-wrapped {border: 1px dashed gray;margin: 0 0.4em 0.5em 0.4em;box-sizing: border-box;padding-bottom: 0.4em;background-color: white;}#sk-container-id-1 div.sk-label label {font-family: monospace;font-weight: bold;display: inline-block;line-height: 1.2em;}#sk-container-id-1 div.sk-label-container {text-align: center;}#sk-container-id-1 div.sk-container {/* jupyter's `normalize.less` sets `[hidden] { display: none; }` but bootstrap.min.css set `[hidden] { display: none !important; }` so we also need the `!important` here to be able to override the default hidden behavior on the sphinx rendered scikit-learn.org. See: https://github.com/scikit-learn/scikit-learn/issues/21755 */display: inline-block !important;position: relative;}#sk-container-id-1 div.sk-text-repr-fallback {display: none;}</style><div id=\"sk-container-id-1\" class=\"sk-top-container\"><div class=\"sk-text-repr-fallback\"><pre>LogisticRegression()</pre><b>In a Jupyter environment, please rerun this cell to show the HTML representation or trust the notebook. <br />On GitHub, the HTML representation is unable to render, please try loading this page with nbviewer.org.</b></div><div class=\"sk-container\" hidden><div class=\"sk-item\"><div class=\"sk-estimator sk-toggleable\"><input class=\"sk-toggleable__control sk-hidden--visually\" id=\"sk-estimator-id-1\" type=\"checkbox\" checked><label for=\"sk-estimator-id-1\" class=\"sk-toggleable__label sk-toggleable__label-arrow\">LogisticRegression</label><div class=\"sk-toggleable__content\"><pre>LogisticRegression()</pre></div></div></div></div></div>"
      ],
      "text/plain": [
       "LogisticRegression()"
      ]
     },
     "execution_count": 36,
     "metadata": {},
     "output_type": "execute_result"
    }
   ],
   "source": [
    "log_reg = LogisticRegression()\n",
    "\n",
    "log_reg.fit(X_train_stacked, y_train)"
   ]
  },
  {
   "cell_type": "code",
   "execution_count": 37,
   "id": "1af7e765",
   "metadata": {},
   "outputs": [],
   "source": [
    "y_pred = log_reg.predict(X_test_stacked) "
   ]
  },
  {
   "cell_type": "code",
   "execution_count": 41,
   "id": "f91197da",
   "metadata": {},
   "outputs": [
    {
     "data": {
      "text/plain": [
       "0.8745098039215686"
      ]
     },
     "execution_count": 41,
     "metadata": {},
     "output_type": "execute_result"
    }
   ],
   "source": [
    "accuracy_score(y_test, y_pred)"
   ]
  },
  {
   "cell_type": "code",
   "execution_count": 39,
   "id": "92ae5bb4",
   "metadata": {},
   "outputs": [
    {
     "data": {
      "text/plain": [
       "array([[1078,   18],\n",
       "       [ 142,   37]], dtype=int64)"
      ]
     },
     "execution_count": 39,
     "metadata": {},
     "output_type": "execute_result"
    }
   ],
   "source": [
    "confusion_matrix(y_test, y_pred)"
   ]
  },
  {
   "cell_type": "markdown",
   "id": "d99d8215",
   "metadata": {},
   "source": [
    "<h4>Lets apply KNN</h4>"
   ]
  },
  {
   "cell_type": "code",
   "execution_count": 58,
   "id": "077da521",
   "metadata": {},
   "outputs": [],
   "source": [
    "from sklearn.neighbors import KNeighborsClassifier"
   ]
  },
  {
   "cell_type": "code",
   "execution_count": 59,
   "id": "fe9da244",
   "metadata": {},
   "outputs": [],
   "source": [
    "knn = KNeighborsClassifier()\n",
    "knn.fit(X_train_stacked, y_train)\n",
    "y_pred = knn.predict(X_test_stacked)"
   ]
  },
  {
   "cell_type": "code",
   "execution_count": 60,
   "id": "c0a63234",
   "metadata": {},
   "outputs": [
    {
     "data": {
      "text/plain": [
       "0.8658823529411764"
      ]
     },
     "execution_count": 60,
     "metadata": {},
     "output_type": "execute_result"
    }
   ],
   "source": [
    "accuracy_score(y_test, y_pred)"
   ]
  },
  {
   "cell_type": "code",
   "execution_count": 61,
   "id": "bb99a3cb",
   "metadata": {},
   "outputs": [
    {
     "data": {
      "text/plain": [
       "array([[1084,   12],\n",
       "       [ 159,   20]], dtype=int64)"
      ]
     },
     "execution_count": 61,
     "metadata": {},
     "output_type": "execute_result"
    }
   ],
   "source": [
    "confusion_matrix(y_test, y_pred)"
   ]
  },
  {
   "cell_type": "markdown",
   "id": "37a59336",
   "metadata": {},
   "source": [
    "<h4>Lets apply Naive Bayes</h4>"
   ]
  },
  {
   "cell_type": "code",
   "execution_count": 68,
   "id": "f992fa67",
   "metadata": {},
   "outputs": [],
   "source": [
    "from sklearn.naive_bayes import GaussianNB"
   ]
  },
  {
   "cell_type": "code",
   "execution_count": 71,
   "id": "e64cace6",
   "metadata": {},
   "outputs": [],
   "source": [
    "nb = GaussianNB()\n",
    "nb.fit(X_train_stacked.toarray(), y_train)\n",
    "y_pred = nb.predict(X_test_stacked.toarray())"
   ]
  },
  {
   "cell_type": "code",
   "execution_count": 72,
   "id": "5acaefef",
   "metadata": {},
   "outputs": [
    {
     "data": {
      "text/plain": [
       "0.5929411764705882"
      ]
     },
     "execution_count": 72,
     "metadata": {},
     "output_type": "execute_result"
    }
   ],
   "source": [
    "accuracy_score(y_test, y_pred)"
   ]
  },
  {
   "cell_type": "code",
   "execution_count": 73,
   "id": "5b90cf9b",
   "metadata": {},
   "outputs": [
    {
     "data": {
      "text/plain": [
       "array([[655, 441],\n",
       "       [ 78, 101]], dtype=int64)"
      ]
     },
     "execution_count": 73,
     "metadata": {},
     "output_type": "execute_result"
    }
   ],
   "source": [
    "confusion_matrix(y_test, y_pred)"
   ]
  },
  {
   "cell_type": "markdown",
   "id": "71aa0797",
   "metadata": {},
   "source": [
    "<h4>Apply simple Decision Tree</h4>"
   ]
  },
  {
   "cell_type": "code",
   "execution_count": 42,
   "id": "edf2f7a1",
   "metadata": {},
   "outputs": [],
   "source": [
    "from sklearn.tree import DecisionTreeClassifier"
   ]
  },
  {
   "cell_type": "code",
   "execution_count": 47,
   "id": "ac1dda75",
   "metadata": {},
   "outputs": [],
   "source": [
    "dt = DecisionTreeClassifier()\n",
    "dt.fit(X_train_stacked, y_train)\n",
    "y_pred = dt.predict(X_test_stacked)"
   ]
  },
  {
   "cell_type": "code",
   "execution_count": 48,
   "id": "36c788a2",
   "metadata": {},
   "outputs": [
    {
     "data": {
      "text/plain": [
       "0.912156862745098"
      ]
     },
     "execution_count": 48,
     "metadata": {},
     "output_type": "execute_result"
    }
   ],
   "source": [
    "accuracy_score(y_test, y_pred)"
   ]
  },
  {
   "cell_type": "code",
   "execution_count": 49,
   "id": "72053bfc",
   "metadata": {},
   "outputs": [
    {
     "data": {
      "text/plain": [
       "array([[1033,   63],\n",
       "       [  49,  130]], dtype=int64)"
      ]
     },
     "execution_count": 49,
     "metadata": {},
     "output_type": "execute_result"
    }
   ],
   "source": [
    "confusion_matrix(y_test, y_pred)"
   ]
  },
  {
   "cell_type": "markdown",
   "id": "a6d722ec",
   "metadata": {},
   "source": [
    "<h4>Lets apply random forest</h4>"
   ]
  },
  {
   "cell_type": "code",
   "execution_count": 50,
   "id": "e5679e8f",
   "metadata": {},
   "outputs": [],
   "source": [
    "from sklearn.ensemble import RandomForestClassifier"
   ]
  },
  {
   "cell_type": "code",
   "execution_count": 51,
   "id": "699fa976",
   "metadata": {},
   "outputs": [],
   "source": [
    "rf = RandomForestClassifier()\n",
    "rf.fit(X_train_stacked, y_train)\n",
    "y_pred = rf.predict(X_test_stacked)"
   ]
  },
  {
   "cell_type": "code",
   "execution_count": 52,
   "id": "620dd57e",
   "metadata": {},
   "outputs": [
    {
     "data": {
      "text/plain": [
       "0.9474509803921569"
      ]
     },
     "execution_count": 52,
     "metadata": {},
     "output_type": "execute_result"
    }
   ],
   "source": [
    "accuracy_score(y_test, y_pred)"
   ]
  },
  {
   "cell_type": "code",
   "execution_count": 53,
   "id": "e6cfd10e",
   "metadata": {},
   "outputs": [
    {
     "data": {
      "text/plain": [
       "array([[1086,   10],\n",
       "       [  57,  122]], dtype=int64)"
      ]
     },
     "execution_count": 53,
     "metadata": {},
     "output_type": "execute_result"
    }
   ],
   "source": [
    "confusion_matrix(y_test, y_pred)"
   ]
  },
  {
   "cell_type": "markdown",
   "id": "ba4dbe7a",
   "metadata": {},
   "source": [
    "<h4>Lets apply gradient boosting</h4>"
   ]
  },
  {
   "cell_type": "code",
   "execution_count": 54,
   "id": "8f66f17a",
   "metadata": {},
   "outputs": [],
   "source": [
    "from sklearn.ensemble import GradientBoostingClassifier"
   ]
  },
  {
   "cell_type": "code",
   "execution_count": 81,
   "id": "af17f37d",
   "metadata": {},
   "outputs": [],
   "source": [
    "gb = GradientBoostingClassifier()\n",
    "gb.fit(X_train_stacked, y_train)\n",
    "y_pred = gb.predict(X_test_stacked)"
   ]
  },
  {
   "cell_type": "code",
   "execution_count": 82,
   "id": "09d16033",
   "metadata": {},
   "outputs": [
    {
     "data": {
      "text/plain": [
       "0.96"
      ]
     },
     "execution_count": 82,
     "metadata": {},
     "output_type": "execute_result"
    }
   ],
   "source": [
    "accuracy_score(y_test, y_pred)"
   ]
  },
  {
   "cell_type": "code",
   "execution_count": 57,
   "id": "a01a49a9",
   "metadata": {},
   "outputs": [
    {
     "data": {
      "text/plain": [
       "array([[1086,   10],\n",
       "       [  42,  137]], dtype=int64)"
      ]
     },
     "execution_count": 57,
     "metadata": {},
     "output_type": "execute_result"
    }
   ],
   "source": [
    "confusion_matrix(y_test, y_pred)"
   ]
  },
  {
   "cell_type": "markdown",
   "id": "2331e4ac",
   "metadata": {},
   "source": [
    "<h4>Lets apply Support Vector Machine Classifier</h4>"
   ]
  },
  {
   "cell_type": "code",
   "execution_count": 62,
   "id": "d3b34ee8",
   "metadata": {},
   "outputs": [],
   "source": [
    "from sklearn.svm import SVC"
   ]
  },
  {
   "cell_type": "code",
   "execution_count": 63,
   "id": "ddbfebcd",
   "metadata": {},
   "outputs": [],
   "source": [
    "svc = SVC()\n",
    "svc.fit(X_train_stacked, y_train)\n",
    "y_pred = svc.predict(X_test_stacked)"
   ]
  },
  {
   "cell_type": "code",
   "execution_count": 64,
   "id": "a7a4fb2f",
   "metadata": {},
   "outputs": [
    {
     "data": {
      "text/plain": [
       "0.8619607843137255"
      ]
     },
     "execution_count": 64,
     "metadata": {},
     "output_type": "execute_result"
    }
   ],
   "source": [
    "accuracy_score(y_test, y_pred)"
   ]
  },
  {
   "cell_type": "code",
   "execution_count": 65,
   "id": "337f9f80",
   "metadata": {},
   "outputs": [
    {
     "data": {
      "text/plain": [
       "array([[1095,    1],\n",
       "       [ 175,    4]], dtype=int64)"
      ]
     },
     "execution_count": 65,
     "metadata": {},
     "output_type": "execute_result"
    }
   ],
   "source": [
    "confusion_matrix(y_test, y_pred)"
   ]
  },
  {
   "cell_type": "markdown",
   "id": "ee4cfc34",
   "metadata": {},
   "source": [
    "<h4> Summarize results of all models</h4>"
   ]
  },
  {
   "cell_type": "code",
   "execution_count": 75,
   "id": "657d356d",
   "metadata": {},
   "outputs": [],
   "source": [
    "from prettytable import PrettyTable"
   ]
  },
  {
   "cell_type": "code",
   "execution_count": 87,
   "id": "71a294bb",
   "metadata": {},
   "outputs": [
    {
     "name": "stdout",
     "output_type": "stream",
     "text": [
      "+-------------------------+-----------------+--------------------+\n",
      "|        Algorithm        | Hyperparameters |   Test Accuracy    |\n",
      "+-------------------------+-----------------+--------------------+\n",
      "|       Naive Bayes       |     Default     | 0.5929411764705882 |\n",
      "| Support Vector Machines |     Default     | 0.8619607843137255 |\n",
      "|           KNN           |     Default     | 0.8658823529411764 |\n",
      "|   Logistic Regression   |     Default     | 0.8745098039215686 |\n",
      "|      Decision Tree      |     Default     | 0.912156862745098  |\n",
      "|      Random Forest      |     Default     | 0.9474509803921569 |\n",
      "|    Gradient Boosting    |     Default     |        0.96        |\n",
      "+-------------------------+-----------------+--------------------+\n"
     ]
    }
   ],
   "source": [
    "x = PrettyTable()\n",
    "x.field_names = [\"Algorithm\", \"Hyperparameters\",\"Test Accuracy\"]\n",
    "x.add_row([\"Logistic Regression\", \"Default\", \"0.8745098039215686\"])\n",
    "x.add_row([\"KNN\", \"Default\", \"0.8658823529411764\"])\n",
    "x.add_row([\"Naive Bayes\", \"Default\", \"0.5929411764705882\"])\n",
    "x.add_row([\"Decision Tree\", \"Default\", \"0.912156862745098\"])\n",
    "x.add_row([\"Random Forest\", \"Default\", \"0.9474509803921569\"])\n",
    "x.add_row([\"Gradient Boosting\", \"Default\", \"0.96\"])\n",
    "x.add_row([\"Support Vector Machines\", \"Default\", \"0.8619607843137255\"])\n",
    "x.sortby = \"Test Accuracy\"\n",
    "print(x)"
   ]
  },
  {
   "cell_type": "code",
   "execution_count": null,
   "id": "3d5fb7d8",
   "metadata": {},
   "outputs": [],
   "source": []
  }
 ],
 "metadata": {
  "kernelspec": {
   "display_name": "Python [conda env:ds] *",
   "language": "python",
   "name": "conda-env-ds-py"
  },
  "language_info": {
   "codemirror_mode": {
    "name": "ipython",
    "version": 3
   },
   "file_extension": ".py",
   "mimetype": "text/x-python",
   "name": "python",
   "nbconvert_exporter": "python",
   "pygments_lexer": "ipython3",
   "version": "3.9.6"
  }
 },
 "nbformat": 4,
 "nbformat_minor": 5
}
