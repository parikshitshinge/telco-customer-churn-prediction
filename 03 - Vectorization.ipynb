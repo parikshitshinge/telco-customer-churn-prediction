{
 "cells": [
  {
   "cell_type": "markdown",
   "id": "ee7b1ff2",
   "metadata": {},
   "source": [
    "Lets vectorize all the features to build the model<br>\n",
    "\n",
    "<b>Categorical features:</b><br>\n",
    "1. State\n",
    "2. Area code\n",
    "3. Internation Plan\n",
    "4. Voice Mail Plan\n",
    "\n",
    "<b>Numerical features:</b><br>\n",
    "1. number_vmail_messages<br>\n",
    "2. total_day_minutes<br>\n",
    "3. total_day_calls<br>\n",
    "4. total_day_charge<br>\n",
    "5. total_eve_minutes<br>\n",
    "6. total_eve_calls<br>\n",
    "7. total_eve_charge<br>\n",
    "8. total_night_minutes<br>\n",
    "9. total_night_calls<br>\n",
    "10. total_night_charge<br>\n",
    "11. total_intl_minutes<br>\n",
    "12. total_intl_calls<br>\n",
    "13. total_intl_charge<br>\n",
    "14. number_customer_service_calls<br>"
   ]
  },
  {
   "cell_type": "code",
   "execution_count": 32,
   "id": "b9be6cbd",
   "metadata": {},
   "outputs": [],
   "source": [
    "import pandas as pd\n",
    "import numpy as np\n",
    "from sklearn.model_selection import train_test_split\n",
    "from sklearn.feature_extraction.text import CountVectorizer\n",
    "from sklearn.preprocessing import MinMaxScaler\n",
    "from scipy.sparse import hstack"
   ]
  },
  {
   "cell_type": "markdown",
   "id": "e5718887",
   "metadata": {},
   "source": [
    "<h4>Lets split the data into train & test. Later build model and evaluate it by performing hyperparameter tuning.</h4>"
   ]
  },
  {
   "cell_type": "code",
   "execution_count": 3,
   "id": "0ae372e6",
   "metadata": {},
   "outputs": [],
   "source": [
    "train = pd.read_csv(\"train.csv\")\n",
    "test = pd.read_csv(\"test.csv\")"
   ]
  },
  {
   "cell_type": "code",
   "execution_count": 6,
   "id": "c915fe14",
   "metadata": {},
   "outputs": [
    {
     "name": "stdout",
     "output_type": "stream",
     "text": [
      "['state' 'account_length' 'area_code' 'international_plan'\n",
      " 'voice_mail_plan' 'number_vmail_messages' 'total_day_minutes'\n",
      " 'total_day_calls' 'total_day_charge' 'total_eve_minutes'\n",
      " 'total_eve_calls' 'total_eve_charge' 'total_night_minutes'\n",
      " 'total_night_calls' 'total_night_charge' 'total_intl_minutes'\n",
      " 'total_intl_calls' 'total_intl_charge' 'number_customer_service_calls'\n",
      " 'churn']\n"
     ]
    }
   ],
   "source": [
    "print(train.columns.values)"
   ]
  },
  {
   "cell_type": "code",
   "execution_count": 5,
   "id": "0df02c3d",
   "metadata": {
    "scrolled": true
   },
   "outputs": [
    {
     "name": "stdout",
     "output_type": "stream",
     "text": [
      "(4250, 20)\n"
     ]
    }
   ],
   "source": [
    "print(train.shape)"
   ]
  },
  {
   "cell_type": "code",
   "execution_count": 7,
   "id": "31836425",
   "metadata": {},
   "outputs": [
    {
     "name": "stdout",
     "output_type": "stream",
     "text": [
      "X_train shape (2975, 19)\n",
      "X_test shape (1275, 19)\n",
      "y_train shape (2975,)\n",
      "y_train shape (1275,)\n"
     ]
    }
   ],
   "source": [
    "X = train.drop(['churn'], axis=1)\n",
    "y = train['churn'].values\n",
    "\n",
    "X_train, X_test, y_train, y_test = train_test_split(X, y, test_size=0.3, stratify=y)\n",
    "\n",
    "print(\"X_train shape\", X_train.shape)\n",
    "print(\"X_test shape\", X_test.shape)\n",
    "print(\"y_train shape\", y_train.shape)\n",
    "print(\"y_train shape\", y_test.shape)\n"
   ]
  },
  {
   "cell_type": "markdown",
   "id": "3adefa31",
   "metadata": {},
   "source": [
    "<h4>Lets vectorize the both datasets (train & test) based on train data </h4>"
   ]
  },
  {
   "cell_type": "code",
   "execution_count": 24,
   "id": "5b0b78cc",
   "metadata": {},
   "outputs": [],
   "source": [
    "vectorizer = CountVectorizer()\n",
    "def vectorizeCategoricalFeature(X_train, X_test, feature):\n",
    "    vectorizer.fit(X_train[feature].values)\n",
    "    X_train_vectorized_feature = vectorizer.transform(X_train[feature].values)\n",
    "    X_test_vectorized_feature = vectorizer.transform(X_test[feature].values)\n",
    "    print(\"\\nAfter one hot encoding \",feature)\n",
    "    print(\"X_train shape: \", X_train_vectorized_feature.shape)\n",
    "    print(\"X_test shape: \", X_test_vectorized_feature.shape)\n",
    "    return X_train_vectorized_feature, X_test_vectorized_feature"
   ]
  },
  {
   "cell_type": "code",
   "execution_count": 27,
   "id": "51ce809b",
   "metadata": {},
   "outputs": [
    {
     "name": "stdout",
     "output_type": "stream",
     "text": [
      "\n",
      "After one hot encoding  state\n",
      "X_train shape:  (2975, 51)\n",
      "X_test shape:  (1275, 51)\n",
      "\n",
      "After one hot encoding  area_code\n",
      "X_train shape:  (2975, 3)\n",
      "X_test shape:  (1275, 3)\n",
      "\n",
      "After one hot encoding  international_plan\n",
      "X_train shape:  (2975, 2)\n",
      "X_test shape:  (1275, 2)\n",
      "\n",
      "After one hot encoding  voice_mail_plan\n",
      "X_train shape:  (2975, 2)\n",
      "X_test shape:  (1275, 2)\n"
     ]
    }
   ],
   "source": [
    "# state\n",
    "X_train_state_ohe, X_test_state_ohe = vectorizeCategoricalFeature(X_train, X_test, 'state')\n",
    "\n",
    "# area_code\n",
    "X_train_areacode_ohe, X_test_areacode_ohe = vectorizeCategoricalFeature(X_train, X_test, 'area_code')\n",
    "\n",
    "# international_plan\n",
    "X_train_intplan_ohe, X_test_intplan_ohe = vectorizeCategoricalFeature(X_train, X_test, 'international_plan')\n",
    "\n",
    "# voice_mail_plan\n",
    "X_train_vmailplan_ohe, X_test_vmailplan_ohe = vectorizeCategoricalFeature(X_train, X_test, 'voice_mail_plan')\n"
   ]
  },
  {
   "cell_type": "code",
   "execution_count": 30,
   "id": "39db525b",
   "metadata": {},
   "outputs": [],
   "source": [
    "scaler = MinMaxScaler()\n",
    "def vectorizeNumericalFeature(X_train, X_test, feature):\n",
    "    scaler.fit(X_train[feature].values.reshape(-1,1))\n",
    "    X_train_vectorized_feature = scaler.transform(X_train[feature].values.reshape(-1,1))\n",
    "    X_test_vectorized_feature = scaler.transform(X_test[feature].values.reshape(-1,1))\n",
    "    print(\"\\nAfter normalizing \",feature)\n",
    "    print(\"X_train shape: \", X_train_vectorized_feature.shape)\n",
    "    print(\"X_test shape: \", X_test_vectorized_feature.shape)\n",
    "    return X_train_vectorized_feature, X_test_vectorized_feature"
   ]
  },
  {
   "cell_type": "code",
   "execution_count": 31,
   "id": "d5dc4c4c",
   "metadata": {},
   "outputs": [
    {
     "name": "stdout",
     "output_type": "stream",
     "text": [
      "\n",
      "After normalizing  number_vmail_messages\n",
      "X_train shape:  (2975, 1)\n",
      "X_test shape:  (1275, 1)\n",
      "\n",
      "After normalizing  total_day_minutes\n",
      "X_train shape:  (2975, 1)\n",
      "X_test shape:  (1275, 1)\n",
      "\n",
      "After normalizing  total_day_calls\n",
      "X_train shape:  (2975, 1)\n",
      "X_test shape:  (1275, 1)\n",
      "\n",
      "After normalizing  total_day_charge\n",
      "X_train shape:  (2975, 1)\n",
      "X_test shape:  (1275, 1)\n",
      "\n",
      "After normalizing  total_eve_minutes\n",
      "X_train shape:  (2975, 1)\n",
      "X_test shape:  (1275, 1)\n",
      "\n",
      "After normalizing  total_eve_calls\n",
      "X_train shape:  (2975, 1)\n",
      "X_test shape:  (1275, 1)\n",
      "\n",
      "After normalizing  total_eve_charge\n",
      "X_train shape:  (2975, 1)\n",
      "X_test shape:  (1275, 1)\n",
      "\n",
      "After normalizing  total_night_minutes\n",
      "X_train shape:  (2975, 1)\n",
      "X_test shape:  (1275, 1)\n",
      "\n",
      "After normalizing  total_night_calls\n",
      "X_train shape:  (2975, 1)\n",
      "X_test shape:  (1275, 1)\n",
      "\n",
      "After normalizing  total_night_charge\n",
      "X_train shape:  (2975, 1)\n",
      "X_test shape:  (1275, 1)\n",
      "\n",
      "After normalizing  total_intl_minutes\n",
      "X_train shape:  (2975, 1)\n",
      "X_test shape:  (1275, 1)\n",
      "\n",
      "After normalizing  total_intl_calls\n",
      "X_train shape:  (2975, 1)\n",
      "X_test shape:  (1275, 1)\n",
      "\n",
      "After normalizing  total_intl_charge\n",
      "X_train shape:  (2975, 1)\n",
      "X_test shape:  (1275, 1)\n",
      "\n",
      "After normalizing  number_customer_service_calls\n",
      "X_train shape:  (2975, 1)\n",
      "X_test shape:  (1275, 1)\n"
     ]
    }
   ],
   "source": [
    "# number_vmail_messages\n",
    "X_train_numvmailmsg_norm, X_test_numvmailmsg_norm = vectorizeNumericalFeature(X_train, X_test, 'number_vmail_messages')\n",
    "\n",
    "# total_day_minutes\n",
    "X_train_totdaymins_norm, X_test_totdaymins_norm = vectorizeNumericalFeature(X_train, X_test, 'total_day_minutes')\n",
    "\n",
    "# total_day_calls\n",
    "X_train_totdaycalls_norm, X_test_totdaycalls_norm = vectorizeNumericalFeature(X_train, X_test, 'total_day_calls')\n",
    "\n",
    "# total_day_charge\n",
    "X_train_totdaycharge_norm, X_test_totdaycharge_norm = vectorizeNumericalFeature(X_train, X_test, 'total_day_charge')\n",
    "\n",
    "# total_eve_minutes\n",
    "X_train_totevemins_norm, X_test_totevemins_norm = vectorizeNumericalFeature(X_train, X_test, 'total_eve_minutes')\n",
    "\n",
    "# total_eve_calls\n",
    "X_train_totevecalls_norm, X_test_totevecalls_norm = vectorizeNumericalFeature(X_train, X_test, 'total_eve_calls')\n",
    "\n",
    "# total_eve_charge\n",
    "X_train_totevecharge_norm, X_test_totevecharge_norm = vectorizeNumericalFeature(X_train, X_test, 'total_eve_charge')\n",
    "\n",
    "# total_night_minutes\n",
    "X_train_totnightmins_norm, X_test_totnightmins_norm = vectorizeNumericalFeature(X_train, X_test, 'total_night_minutes')\n",
    "\n",
    "# total_night_calls\n",
    "X_train_totnightcalls_norm, X_test_totnightcalls_norm = vectorizeNumericalFeature(X_train, X_test, 'total_night_calls')\n",
    "\n",
    "# total_night_charge\n",
    "X_train_totnightcharge_norm, X_test_totnightcharge_norm = vectorizeNumericalFeature(X_train, X_test, 'total_night_charge')\n",
    "\n",
    "# total_intl_minutes\n",
    "X_train_totintlmins_norm, X_test_totintlmins_norm = vectorizeNumericalFeature(X_train, X_test, 'total_intl_minutes')\n",
    "\n",
    "# total_intl_calls\n",
    "X_train_totintlcalls_norm, X_test_totintlcalls_norm = vectorizeNumericalFeature(X_train, X_test, 'total_intl_calls')\n",
    "\n",
    "# total_intl_charge\n",
    "X_train_totintlcharge_norm, X_test_totintlcharge_norm = vectorizeNumericalFeature(X_train, X_test, 'total_intl_charge')\n",
    "\n",
    "# number_customer_service_calls\n",
    "X_train_custservcalls_norm, X_test_custservcalls_norm = vectorizeNumericalFeature(X_train, X_test, 'number_customer_service_calls')"
   ]
  },
  {
   "cell_type": "markdown",
   "id": "78c4a585",
   "metadata": {},
   "source": [
    "<h4>Lets stack the vectorized features using hstack and create 2 sets (train & test)"
   ]
  },
  {
   "cell_type": "code",
   "execution_count": 34,
   "id": "498bdc50",
   "metadata": {},
   "outputs": [
    {
     "name": "stdout",
     "output_type": "stream",
     "text": [
      "Stacked data set: \n",
      "X_train shape:  (2975, 72)\n",
      "X_test shape:  (1275, 72)\n"
     ]
    }
   ],
   "source": [
    "X_train_stacked = hstack((X_train_state_ohe, X_train_areacode_ohe, X_train_intplan_ohe, X_train_vmailplan_ohe, X_train_numvmailmsg_norm, X_train_totdaymins_norm, X_train_totdaycalls_norm, X_train_totdaycharge_norm, X_train_totevemins_norm, X_train_totevecalls_norm, X_train_totevecharge_norm, X_train_totnightmins_norm, X_train_totnightcalls_norm, X_train_totnightcharge_norm, X_train_totintlmins_norm, X_train_totintlcalls_norm, X_train_totintlcharge_norm, X_train_custservcalls_norm)).tocsr()\n",
    "X_test_stacked = hstack((X_test_state_ohe, X_test_areacode_ohe, X_test_intplan_ohe, X_test_vmailplan_ohe, X_test_numvmailmsg_norm, X_test_totdaymins_norm, X_test_totdaycalls_norm, X_test_totdaycharge_norm, X_test_totevemins_norm, X_test_totevecalls_norm, X_test_totevecharge_norm, X_test_totnightmins_norm, X_test_totnightcalls_norm, X_test_totnightcharge_norm, X_test_totintlmins_norm, X_test_totintlcalls_norm, X_test_totintlcharge_norm, X_test_custservcalls_norm)).tocsr()\n",
    "\n",
    "print(\"Stacked data set: \")\n",
    "print(\"X_train shape: \", X_train_stacked.shape)\n",
    "print(\"X_test shape: \", X_test_stacked.shape)"
   ]
  },
  {
   "cell_type": "code",
   "execution_count": null,
   "id": "823a5c87",
   "metadata": {},
   "outputs": [],
   "source": []
  },
  {
   "cell_type": "code",
   "execution_count": null,
   "id": "57d6593c",
   "metadata": {},
   "outputs": [],
   "source": []
  },
  {
   "cell_type": "code",
   "execution_count": null,
   "id": "c18a3773",
   "metadata": {},
   "outputs": [],
   "source": []
  },
  {
   "cell_type": "code",
   "execution_count": null,
   "id": "1b493bff",
   "metadata": {},
   "outputs": [],
   "source": []
  }
 ],
 "metadata": {
  "kernelspec": {
   "display_name": "Python [conda env:ds] *",
   "language": "python",
   "name": "conda-env-ds-py"
  },
  "language_info": {
   "codemirror_mode": {
    "name": "ipython",
    "version": 3
   },
   "file_extension": ".py",
   "mimetype": "text/x-python",
   "name": "python",
   "nbconvert_exporter": "python",
   "pygments_lexer": "ipython3",
   "version": "3.9.6"
  }
 },
 "nbformat": 4,
 "nbformat_minor": 5
}
